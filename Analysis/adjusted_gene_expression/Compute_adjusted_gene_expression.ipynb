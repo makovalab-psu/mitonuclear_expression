{
 "cells": [
  {
   "cell_type": "markdown",
   "metadata": {},
   "source": [
    "# Adjust gene expression (TPM) for significant cofactors using MLR residuals.\n",
    "- 'Age' and 'Ischemic minutes' were found to be correlated with gene expression in many genes and across tissues.\n",
    "- Using processed and annotated gene expression dataset (in TPM) we produce an MLR for each gene/tissue combination and use the residuals as adjusted gene expression."
   ]
  },
  {
   "cell_type": "markdown",
   "metadata": {},
   "source": [
    "### Load R packages/dependencies."
   ]
  },
  {
   "cell_type": "code",
   "execution_count": null,
   "metadata": {},
   "outputs": [],
   "source": [
    "# Load R libraries.\n",
    "library(tidyr)\n",
    "library(dplyr)\n",
    "library(patchwork)\n",
    "library(ggplot2)\n",
    "library(reshape2)\n",
    "library(ggpubr)\n",
    "library(rstatix)\n",
    "#library(gginnards)"
   ]
  },
  {
   "cell_type": "code",
   "execution_count": 9,
   "metadata": {},
   "outputs": [],
   "source": [
    "# List of genes and tissues.\n",
    "list_tissues = c('Muscle - Skeletal','Esophagus - Muscularis','Artery - Tibial','Nerve - Tibial','Whole Blood','Heart - Left Ventricle','Heart - Atrial Appendage')\n",
    "\n",
    "#list_mtdna = c('ND1','ND2','CO1','CO2','ATP8','ATP6','CO3','ND3','ND4L','ND4','CYB','ND5','ND6')\n",
    "\n",
    "# Exclude ND5 and ND6 from list.\n",
    "list_mtdna = c('ATP6','ATP8','CO1','CO2','CO3','CYB','ND1','ND2','ND3','ND4','ND4L')\n",
    "\n",
    "### Join genes into bicistronic transcripts.\n",
    "###list_mtdna = c('ATP8/ATP6','CO1','CO2','CO3','CYB','ND1','ND2','ND3','ND4L/ND4')"
   ]
  },
  {
   "cell_type": "markdown",
   "metadata": {},
   "source": [
    "## Import the annotated gene expression (TPM) file."
   ]
  },
  {
   "cell_type": "code",
   "execution_count": null,
   "metadata": {},
   "outputs": [],
   "source": [
    "# GTEx dataset with genotype data.\n",
    "df_tpm = read.table(\"gtex_v8_tpm_annotated.mt\", header=TRUE, sep=\"\\t\")"
   ]
  },
  {
   "cell_type": "markdown",
   "metadata": {},
   "source": [
    "## Import available phenotypes (requires dbGap access).\n",
    "- Includes: 'Cohort', 'Sex', 'Age', 'Ischemic minutes', and 'BMI'"
   ]
  },
  {
   "cell_type": "code",
   "execution_count": 3,
   "metadata": {
    "scrolled": true
   },
   "outputs": [],
   "source": [
    "df_phen = read.table(\"gtex_phenotypes.txt\", sep=\"\\t\",\n",
    "                      col.names=c('short_ID','Race','Cohort','Sex','Age','Ethnicity','Ischemic_minutes','BMI'), skip=1 )"
   ]
  },
  {
   "cell_type": "markdown",
   "metadata": {},
   "source": [
    "## Annotate the gene expression dataframe with phenotypes."
   ]
  },
  {
   "cell_type": "code",
   "execution_count": 5,
   "metadata": {
    "scrolled": true
   },
   "outputs": [],
   "source": [
    "# Merge dataframes.\n",
    "df_tpm_phen = merge(df_tpm,df_phen,by=c(\"short_ID\"))\n",
    "\n",
    "# Keep relevant columns.\n",
    "df_tpm_phen = df_tpm_phen %>% select('short_ID','GTEX_ID','mtDNA_haplo','mt_ancestry','mitonucl_discord','self_rep_race','Sex','Cohort','Age','Ischemic_minutes','Tissue','Gene','TPM')"
   ]
  },
  {
   "cell_type": "markdown",
   "metadata": {},
   "source": [
    "## `Test`: Create MLR with Expression vs. Age + Ischemic time for a single gene and tissue"
   ]
  },
  {
   "cell_type": "code",
   "execution_count": null,
   "metadata": {},
   "outputs": [],
   "source": [
    "# Test: Filter to ND6 gene in Skeletal muscle tissue.\n",
    "test_get_residuals = function(){data_test = df_tpm_phen %>% \n",
    "    select('short_ID','Tissue','Gene','Age','Ischemic_minutes','TPM') %>% \n",
    "    filter(Tissue == 'Muscle - Skeletal') %>%\n",
    "    filter(Gene == 'ND1')\n",
    "\n",
    "    # Multiple Linear Regression.\n",
    "    fit <- lm( TPM ~ Age + Ischemic_minutes , data=data_test )\n",
    "    #summary(fit) # show results\n",
    "    #residuals(fit) # residuals\n",
    "\n",
    "    # Add residuals to the df.\n",
    "    data_test$Residuals_AgeIsch = residuals(fit)\n",
    "    data_test\n",
    "}\n",
    "\n",
    "test_get_residuals()"
   ]
  },
  {
   "cell_type": "markdown",
   "metadata": {},
   "source": [
    "## `Function`: MLR for each tissue and gene, to use residuals as adjusted TPM.\n",
    "Gets residuals from: `TPM ~ Age + Ischemic_minutes`\n",
    "\n",
    "Age and Ischemic_minutes were shown to be correlated with many genes in many tissues (though not in all).\n",
    "\n",
    "`e.g. An MLR is fitted to subset of ND6 gene in Skeletal muscle.`"
   ]
  },
  {
   "cell_type": "code",
   "execution_count": null,
   "metadata": {},
   "outputs": [],
   "source": [
    "# Iterate over tissues and genes.\n",
    "# Only the genes for Skeletal muscle are succesful.\n",
    "get_residuals_all = function(df){\n",
    "    ## List of tissues and genes.\n",
    "    ##list_tissues = c('Muscle - Skeletal','Esophagus - Muscularis','Artery - Tibial','Nerve - Tibial','Whole Blood','Heart - Left Ventricle','Heart - Atrial Appendage')\n",
    "    ##list_mtdna = c('ND1','ND2','CO1','CO2','ATP8','ATP6','CO3','ND3','ND4L','ND4','CYB')\n",
    "    # Empty dataframe keeping column headers.\n",
    "    out_df = df[FALSE,]\n",
    "    out_df$Residuals_AgeIsch = numeric()\n",
    "    # Iterate over tissue and gene to get residuals.\n",
    "    for (tissue in list_tissues) {\n",
    "        for (gene in list_mtdna) {\n",
    "            data = df %>% filter(Tissue == tissue) %>% filter(Gene == gene)\n",
    "            # Fit an MLR.\n",
    "            fit <- lm( TPM ~ Age + Ischemic_minutes , data=data )\n",
    "            # Get residuals.\n",
    "            data$Residuals_AgeIsch = residuals(fit)\n",
    "            #return(data)\n",
    "            # Merge dataframes.\n",
    "            ##out_df = merge(out_df, data, all.y=TRUE, by=c('short_ID','GTEX_ID','mtDNA_haplo','mt_ancestry','mitonucl_discord','self_rep_race','Sex','Cohort','Age','Ischemic_minutes','Tissue','Gene','TPM','Residuals_AgeIsch') )\n",
    "            out_df = bind_rows(out_df, data)\n",
    "        }\n",
    "        # Omit rows with an NA.\n",
    "        #out_df = na.omit(out_df)\n",
    "    }\n",
    "    # Return results for all tissues and genes.\n",
    "    return(out_df)\n",
    "}\n",
    "\n",
    "\n",
    "df_adjTPM = get_residuals_all(df_tpm_phen)"
   ]
  },
  {
   "cell_type": "markdown",
   "metadata": {},
   "source": [
    "## Export the df annotated with residuals (adjusted TPM)."
   ]
  },
  {
   "cell_type": "code",
   "execution_count": 16,
   "metadata": {},
   "outputs": [],
   "source": [
    "# Create a tab-separated table without quotes(\"\"), and without index ('row.names').\n",
    "write.table( get_residuals_all(df_tpm_phen), \n",
    "            \"residuals_adjTPM.txt\", \n",
    "            sep='\\t', quote=FALSE, row.names = FALSE )"
   ]
  },
  {
   "cell_type": "code",
   "execution_count": null,
   "metadata": {},
   "outputs": [],
   "source": []
  },
  {
   "cell_type": "code",
   "execution_count": null,
   "metadata": {},
   "outputs": [],
   "source": []
  },
  {
   "cell_type": "code",
   "execution_count": null,
   "metadata": {},
   "outputs": [],
   "source": []
  },
  {
   "cell_type": "code",
   "execution_count": null,
   "metadata": {},
   "outputs": [],
   "source": []
  }
 ],
 "metadata": {
  "kernelspec": {
   "display_name": "R",
   "language": "R",
   "name": "ir"
  },
  "language_info": {
   "codemirror_mode": "r",
   "file_extension": ".r",
   "mimetype": "text/x-r-source",
   "name": "R",
   "pygments_lexer": "r",
   "version": "4.0.3"
  }
 },
 "nbformat": 4,
 "nbformat_minor": 4
}
