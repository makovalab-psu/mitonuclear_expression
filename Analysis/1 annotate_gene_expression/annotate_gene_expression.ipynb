{
 "cells": [
  {
   "cell_type": "markdown",
   "metadata": {},
   "source": [
    "# Annotate gene expression files with ancestry information (mtDNA haplogroup, global nuclear ancestry), mitonuclear DNA discordance, and available phenotypes."
   ]
  },
  {
   "cell_type": "code",
   "execution_count": 1,
   "metadata": {},
   "outputs": [],
   "source": [
    "import pandas as pd\n",
    "#pd.set_option(\"display.max_rows\", None, \"display.max_columns\", None)\n",
    "\n",
    "import numpy as np\n",
    "import matplotlib.pyplot as plt\n",
    "import matplotlib.patches as mpatches\n",
    "from scipy import stats\n",
    "import statistics\n",
    "import statsmodels.api as sm\n",
    "from itertools import permutations\n",
    "#import pdfkit as pdf\n",
    "\n",
    "import seaborn as sns; sns.set(style=\"ticks\", color_codes=True)\n",
    "\n",
    "from Bio import SeqIO\n",
    "import sys"
   ]
  },
  {
   "cell_type": "code",
   "execution_count": 2,
   "metadata": {},
   "outputs": [],
   "source": [
    "%%bash\n",
    "\n",
    "# Download GTEx v8 normalized counts (gene TPMs).\n",
    "wget https://storage.googleapis.com/gtex_analysis_v8/rna_seq_data/GTEx_Analysis_2017-06-05_v8_RNASeQCv1.1.9_gene_tpm.gct.gz"
   ]
  },
  {
   "cell_type": "markdown",
   "metadata": {},
   "source": [
    "## Import gene TPM files (from GTEx portal).\n",
    "\n",
    "Detailed analyses by GTEx: https://gtexportal.org/home/documentationPage"
   ]
  },
  {
   "cell_type": "code",
   "execution_count": null,
   "metadata": {},
   "outputs": [],
   "source": [
    "df_tpm_v8 = pd.read_table(\"GTEx_Analysis_2017-06-05_v8_RNASeQCv1.1.9_gene_tpm.gct\", skiprows=[0,1])\n",
    "df_tpm_v8.name = 'df_tpm_v8'"
   ]
  },
  {
   "cell_type": "markdown",
   "metadata": {},
   "source": [
    "## Wrangle gene TPMs (from GTEx Portal)\n",
    "\n",
    "Keep protein-coding genes in mitochondrial DNA (Gene name, short GTEx ID, and long GTEx ID).\n",
    "\n",
    "Annotate the normalized counts (TPM) with population (AfAM/EuAm), tissue (e.g. Muscle - Skeletal), and mtDNA haplogroup (e.g. L)."
   ]
  },
  {
   "cell_type": "code",
   "execution_count": 4,
   "metadata": {},
   "outputs": [],
   "source": [
    "# The list of mtDNA protein-coding genes.\n",
    "list_mtdna = [ 'MT-ND1','MT-ND2','MT-CO1','MT-CO2','MT-ATP8','MT-ATP6','MT-CO3','MT-ND3','MT-ND4L','MT-ND4','MT-CYB','MT-ND5','MT-ND6' ]"
   ]
  },
  {
   "cell_type": "code",
   "execution_count": null,
   "metadata": {},
   "outputs": [],
   "source": [
    "def wrangle_counts( counts ):\n",
    "    # Keep mtDNA prot cod genes.\n",
    "    counts_mt = counts[counts['Description'].isin(list_mtdna)]  \n",
    "    # Move individual IDs into rows.\n",
    "    counts_mt = counts_mt.melt(id_vars=['Name','Description'], var_name='GTEX_ID', value_name='TPM')\n",
    "    # Change header names.\n",
    "    counts_mt = counts_mt.rename(columns={'Name':'ENS_ID','Description':'Gene'})\n",
    "    # Get rid of the Ensemble gene IDs.\n",
    "    counts_mt.drop('ENS_ID', inplace=True, axis=1)\n",
    "    # Unmelt by pivoting and resetting index.\n",
    "    #counts_mt = counts_mt.pivot(index='GTEX_ID',columns='Gene').reset_index()\n",
    "    return(counts_mt)\n",
    "\n",
    "def get_info():\n",
    "    # Get GTEX_ID, mitochondrial haplogroup, and self-reported race.\n",
    "    info = pd.read_table(\"../data/secure/phenotypes_v8.txt\")\n",
    "    info.columns = ['GTEX_ID','short_ID','self_rep_race','mtDNA_haplo','Tissue']\n",
    "    # Change labels of self-reported race.\n",
    "    info['self_rep_race'] = [ {2:'AfAm',3:'EuAm'}[x] for x in info['self_rep_race'] ]\n",
    "    return(info)\n",
    "\n",
    "def ann_counts(counts):\n",
    "    # Add the info to the merged raw counts.\n",
    "    ann_counts = pd.merge( wrangle_counts(counts), get_info(), on=['GTEX_ID'] )\n",
    "    #ann_counts.name = ann_counts.name + \"_ann\"\n",
    "    return(ann_counts)\n",
    "    \n",
    "\n",
    "df_tpm_v8_ann = ann_counts(df_tpm_v8)\n",
    "df_tpm_v8_ann.name = \"df_tpm_v8_ann\""
   ]
  },
  {
   "cell_type": "markdown",
   "metadata": {},
   "source": [
    "## Remove the gene ID prefix `\"MT-\"`"
   ]
  },
  {
   "cell_type": "code",
   "execution_count": 8,
   "metadata": {},
   "outputs": [],
   "source": [
    "# Remove the gene ID prefix \"MT-\".\n",
    "def rem_mt_prefix(df):\n",
    "    dict_mtdna = {'MT-ND1':'ND1','MT-ND2':'ND2','MT-CO1':'CO1','MT-CO2':'CO2','MT-ATP8':'ATP8','MT-ATP6':'ATP6','MT-CO3':'CO3','MT-ND3':'ND3','MT-ND4L':'ND4L','MT-ND4':'ND4','MT-ND5':'ND5','MT-CYB':'CYB','MT-ND6':'ND6'}\n",
    "    new_col = [dict_mtdna[gene] for gene in df['Gene']]\n",
    "    return(new_col)\n",
    "\n",
    "\n",
    "df_tpm_v8_ann['Gene'] = rem_mt_prefix(df_tpm_v8_ann)"
   ]
  },
  {
   "cell_type": "markdown",
   "metadata": {},
   "source": [
    "# Mitonuclear discordance\n",
    "- Annotate dataframe with global ancestry estimates.\n",
    "- Estimate Minonuclear discordance using mtDNA haplogroup and global ancestry values."
   ]
  },
  {
   "cell_type": "code",
   "execution_count": 19,
   "metadata": {},
   "outputs": [],
   "source": [
    "def get_globalAnc(K):\n",
    "    df = pd.read_table(\"../data/2021-04-09/mitonuclearDiscordance_global\"+K+\"_GTExv8.txt\", index_col=0)\n",
    "    df = df.rename(columns={'subject':'short_ID', 'self_rep':'self_rep_race'})\n",
    "    df['self_rep_race'] = [ {2:'AfAm',3:'EuAm'}[x] for x in df['self_rep_race'] ]\n",
    "    df['mitonucl_discord'] = recalc_mnd(df)\n",
    "    return(df)\n",
    "\n",
    "def ann_globalAnc(tpm,K):\n",
    "    globalK = get_globalAnc(K)\n",
    "    tpm_mnd = pd.merge(tpm,globalK, on=['short_ID','self_rep_race'])\n",
    "    #tpm_mnd.name = tpm_mnd.name +\"_\"+ K\n",
    "    return(tpm_mnd)\n",
    "    \n",
    "def recalc_mnd(ann):\n",
    "    col_mnd=[]\n",
    "    for i,val in enumerate(ann['mt_ancestry']):\n",
    "        # Estimate mitonuclear discordance.\n",
    "        if val == 'African':\n",
    "            mnd = 1 - ann['global_af'].iloc[i]\n",
    "        elif val == 'European':\n",
    "            mnd = 1 - ann['global_eu'].iloc[i]\n",
    "        elif val == 'Asian' or val == 'NatAm':\n",
    "            mnd = 1 - ann['global_as'].iloc[i]\n",
    "        else:\n",
    "            # If I see this, I should realize something is wrong.\n",
    "            mnd == 447\n",
    "        # Output the MND value.\n",
    "        col_mnd.append(mnd)\n",
    "    return(col_mnd)\n",
    "            \n",
    "\n",
    "globalK2 = get_globalAnc('K2')\n",
    "\n",
    "df_tpm_v8_ann_K2 = ann_globalAnc(df_tpm_v8_ann,'K2')\n",
    "df_tpm_v8_ann_K2.name = \"df_tpm_v8_ann_K2\"\n",
    "\n",
    "#recalc_mnd(globalK2,'K2')"
   ]
  },
  {
   "cell_type": "markdown",
   "metadata": {},
   "source": [
    "## Number of samples per tissue."
   ]
  },
  {
   "cell_type": "code",
   "execution_count": 46,
   "metadata": {
    "scrolled": false
   },
   "outputs": [
    {
     "data": {
      "text/html": [
       "<div>\n",
       "<style scoped>\n",
       "    .dataframe tbody tr th:only-of-type {\n",
       "        vertical-align: middle;\n",
       "    }\n",
       "\n",
       "    .dataframe tbody tr th {\n",
       "        vertical-align: top;\n",
       "    }\n",
       "\n",
       "    .dataframe thead th {\n",
       "        text-align: right;\n",
       "    }\n",
       "</style>\n",
       "<table border=\"1\" class=\"dataframe\">\n",
       "  <thead>\n",
       "    <tr style=\"text-align: right;\">\n",
       "      <th></th>\n",
       "      <th>AfAm</th>\n",
       "      <th>EuAm</th>\n",
       "      <th>Total</th>\n",
       "    </tr>\n",
       "  </thead>\n",
       "  <tbody>\n",
       "    <tr>\n",
       "      <th>Muscle - Skeletal</th>\n",
       "      <td>85.0</td>\n",
       "      <td>580.0</td>\n",
       "      <td>665.0</td>\n",
       "    </tr>\n",
       "    <tr>\n",
       "      <th>Whole Blood</th>\n",
       "      <td>79.0</td>\n",
       "      <td>550.0</td>\n",
       "      <td>629.0</td>\n",
       "    </tr>\n",
       "    <tr>\n",
       "      <th>Artery - Tibial</th>\n",
       "      <td>75.0</td>\n",
       "      <td>471.0</td>\n",
       "      <td>546.0</td>\n",
       "    </tr>\n",
       "    <tr>\n",
       "      <th>Nerve - Tibial</th>\n",
       "      <td>66.0</td>\n",
       "      <td>431.0</td>\n",
       "      <td>497.0</td>\n",
       "    </tr>\n",
       "    <tr>\n",
       "      <th>Esophagus - Muscularis</th>\n",
       "      <td>54.0</td>\n",
       "      <td>379.0</td>\n",
       "      <td>433.0</td>\n",
       "    </tr>\n",
       "    <tr>\n",
       "      <th>Heart - Left Ventricle</th>\n",
       "      <td>42.0</td>\n",
       "      <td>321.0</td>\n",
       "      <td>363.0</td>\n",
       "    </tr>\n",
       "    <tr>\n",
       "      <th>Heart - Atrial Appendage</th>\n",
       "      <td>41.0</td>\n",
       "      <td>311.0</td>\n",
       "      <td>352.0</td>\n",
       "    </tr>\n",
       "  </tbody>\n",
       "</table>\n",
       "</div>"
      ],
      "text/plain": [
       "                          AfAm   EuAm  Total\n",
       "Muscle - Skeletal         85.0  580.0  665.0\n",
       "Whole Blood               79.0  550.0  629.0\n",
       "Artery - Tibial           75.0  471.0  546.0\n",
       "Nerve - Tibial            66.0  431.0  497.0\n",
       "Esophagus - Muscularis    54.0  379.0  433.0\n",
       "Heart - Left Ventricle    42.0  321.0  363.0\n",
       "Heart - Atrial Appendage  41.0  311.0  352.0"
      ]
     },
     "execution_count": 46,
     "metadata": {},
     "output_type": "execute_result"
    }
   ],
   "source": [
    "def tissue_counts():\n",
    "    data = df_tpm_v8_ann_K2[['short_ID','self_rep_race','Tissue']].drop_duplicates()\n",
    "    out = pd.DataFrame()\n",
    "    ## Get total samples.\n",
    "    ##out = out.append(data['mtDNA_haplo'].value_counts().to_dict(),ignore_index=True)\n",
    "    for group in ['AfAm','EuAm']:\n",
    "        # Get the counts of haplogroups per group.\n",
    "        x = data[data['self_rep_race']==group]['Tissue'].value_counts().to_dict()\n",
    "        out = out.append(x, ignore_index=True)\n",
    "    # Add label.\n",
    "    out.index = ['AfAm','EuAm']\n",
    "    # Filter tissues.\n",
    "    #list_tissue = \n",
    "    out = out[list_tissue]\n",
    "    # Transpose.\n",
    "    out = out.transpose()\n",
    "    # Add a column with total number per tissue.\n",
    "    out['Total'] = out['AfAm'] + out['EuAm']\n",
    "    # Sorted by total.\n",
    "    out = out.sort_values('Total', ascending=False)\n",
    "    return(out)\n",
    "\n",
    "tissue_counts()"
   ]
  },
  {
   "cell_type": "markdown",
   "metadata": {},
   "source": [
    "## Number of samples per population."
   ]
  },
  {
   "cell_type": "code",
   "execution_count": 47,
   "metadata": {},
   "outputs": [
    {
     "data": {
      "text/html": [
       "<div>\n",
       "<style scoped>\n",
       "    .dataframe tbody tr th:only-of-type {\n",
       "        vertical-align: middle;\n",
       "    }\n",
       "\n",
       "    .dataframe tbody tr th {\n",
       "        vertical-align: top;\n",
       "    }\n",
       "\n",
       "    .dataframe thead th {\n",
       "        text-align: right;\n",
       "    }\n",
       "</style>\n",
       "<table border=\"1\" class=\"dataframe\">\n",
       "  <thead>\n",
       "    <tr style=\"text-align: right;\">\n",
       "      <th></th>\n",
       "      <th>self_rep_race</th>\n",
       "    </tr>\n",
       "  </thead>\n",
       "  <tbody>\n",
       "    <tr>\n",
       "      <th>EuAm</th>\n",
       "      <td>688</td>\n",
       "    </tr>\n",
       "    <tr>\n",
       "      <th>AfAm</th>\n",
       "      <td>101</td>\n",
       "    </tr>\n",
       "  </tbody>\n",
       "</table>\n",
       "</div>"
      ],
      "text/plain": [
       "      self_rep_race\n",
       "EuAm            688\n",
       "AfAm            101"
      ]
     },
     "execution_count": 47,
     "metadata": {},
     "output_type": "execute_result"
    }
   ],
   "source": [
    "pd.DataFrame(df_tpm_v8_ann_K2[['short_ID','self_rep_race']].drop_duplicates()['self_rep_race'].value_counts())"
   ]
  },
  {
   "cell_type": "code",
   "execution_count": null,
   "metadata": {},
   "outputs": [],
   "source": []
  },
  {
   "cell_type": "code",
   "execution_count": null,
   "metadata": {},
   "outputs": [],
   "source": []
  },
  {
   "cell_type": "code",
   "execution_count": null,
   "metadata": {},
   "outputs": [],
   "source": []
  },
  {
   "cell_type": "markdown",
   "metadata": {},
   "source": [
    "# ALTERNATIVE: Remake the global ancestry, mitohaplo merge."
   ]
  },
  {
   "cell_type": "code",
   "execution_count": null,
   "metadata": {},
   "outputs": [],
   "source": [
    "# Input mt haplogroup info for GTEx samples.\n",
    "def get_haplo():\n",
    "    df_haplo = pd.read_table(\"GTEx_v8_mtDNA_haplogroups.txt\", header=None)\n",
    "    df_haplo.columns = ['short_ID','mt_haplo','pop']\n",
    "    df_haplo['pop'] = [{3:'EuAm',2:'AfAm'}[x] for x in df_haplo['pop']]\n",
    "    df_haplo['mt_haplo_pop'] = [ {'L':'African','H':'Eurasian','U':'Eurasian','T':'Eurasian','J':'Eurasian',\n",
    "                                  'K':'Eurasian','I':'Eurasian','V':'Eurasian','W':'Eurasian','X':'Eurasian',\n",
    "                                  'C':'Native American','B':'Native American','A':'Native American',\n",
    "                                  'Z':'Asian','F':'Asian','R':'Eurasian?','M':'Eurasian?','N':'Eurasian?'}[x] for x in df_haplo['mt_haplo']]\n",
    "    return(df_haplo)\n",
    "\n",
    "# Input qlobal ancestry estimated for K=2 using ADMIXTURE.\n",
    "def get_global():\n",
    "    df_ids = pd.read_table(\"/Users/edmundo/Documents/GitHub/mitonuclear_gtex/mitonucl/data/2021-04-09/NATMERG-WGS-ALL_biall_nopal_filt_common_pruned_keep2.ids\", header=None)\n",
    "    df_ids.columns = ['short_ID']\n",
    "    df_ids = df_ids.reset_index()\n",
    "    #return(df_ids)\n",
    "    df_Q = pd.read_table(\"/Users/edmundo/Documents/GitHub/mitonuclear_gtex/mitonucl/data/2021-04-09/NATMERG-WGS-ALL_biall_nopal_filt_common_pruned_keep2.2.Q\", header=None, sep=' ')\n",
    "    df_Q.columns = ['anc_afr','anc_eur']\n",
    "    df_Q = df_Q.reset_index()\n",
    "    #return(df_Q)\n",
    "    df_glob = pd.merge(df_ids,df_Q, on='index').drop(columns=['index'])\n",
    "    return(df_glob)\n",
    "    \n",
    "# Compute mitonuclear DNA discordance.\n",
    "def recalc_mnd(ann):\n",
    "    col_mnd=[]\n",
    "    for i,val in enumerate(ann['mt_haplo_pop']):\n",
    "        # Estimate mitonuclear discordance.\n",
    "        if val == 'African':\n",
    "            mnd = 1 - ann['anc_afr'].iloc[i]\n",
    "        elif val == 'Eurasian':\n",
    "            mnd = 1 - ann['anc_eur'].iloc[i]\n",
    "        elif val != 'African' or val != 'Eurasian':\n",
    "            mnd = \"Unknown\"\n",
    "        # Output the MND value.\n",
    "        col_mnd.append(mnd)\n",
    "    return(col_mnd)\n",
    "\n",
    "# Merge these annotations into one file.\n",
    "def join_global_haplo():\n",
    "    df_ann = pd.merge( get_global() , get_haplo() ,on='short_ID')\n",
    "    #return(df_ann)\n",
    "    df_ann['mnd'] = recalc_mnd(df_ann)\n",
    "    return(df_ann)\n",
    "\n",
    "\n",
    "### Input the GTEx TPM file. ###\n",
    "# Do not use. Old and missing haplogroups.\n",
    "###df_tpm = pd.read_table('../results/2021-04/gtexportal_v8_tpm_ann.mt', sep='\\t')[['Gene','GTEX_ID','TPM','short_ID','Tissue']]\n",
    "\n",
    "# Import GTEx v8 gene reads (in TPM):\n",
    "#df_tpm = pd.read_table(\"GTEx_Analysis_2017-06-05_v8_RNASeQCv1.1.9_gene_tpm.gct\", skiprows=[0,1])\n",
    "#df_tpm.to_csv(\"gtexportal_v8_tpm_ann.mt.tab\", sep='\\t')\n",
    "df_tpm = pd.read_table(\"gtexportal_v8_tpm_ann.mt.tab\", sep='\\t')\n",
    "\n",
    "# Wrangle the GTEx Portal v8 \"gene TPMs\" file.\n",
    "def wrangle_tpm( counts ):\n",
    "    # Keep mtDNA protein coding genes.\n",
    "    # The list of mtDNA protein-coding genes.\n",
    "    list_mtdna = [ 'MT-ND1','MT-ND2','MT-CO1','MT-CO2','MT-ATP8','MT-ATP6','MT-CO3','MT-ND3','MT-ND4L','MT-ND4','MT-CYB','MT-ND5','MT-ND6' ]\n",
    "    counts_mt = counts[counts['Description'].isin(list_mtdna)]  \n",
    "    # Move individual IDs into rows.\n",
    "    counts_mt = counts_mt.melt(id_vars=['Name','Description'], var_name='GTEX_ID', value_name='TPM')\n",
    "    # Change header names.\n",
    "    counts_mt = counts_mt.rename(columns={'Name':'ENS_ID','Description':'Gene'})\n",
    "    # Get rid of the Ensemble gene IDs.\n",
    "    counts_mt.drop('ENS_ID', inplace=True, axis=1)\n",
    "    # \n",
    "    counts_mt['short_ID'] = [\"-\".join(x.split('-')[:2]) for x in df_wrangled['GTEX_ID']]\n",
    "    return(counts_mt)\n",
    "\n",
    "# Remove the gene ID prefix \"MT-\".\n",
    "def remove_mt_prefix(df):\n",
    "    dict_mtdna = {'MT-ND1':'ND1','MT-ND2':'ND2','MT-CO1':'CO1','MT-CO2':'CO2','MT-ATP8':'ATP8','MT-ATP6':'ATP6','MT-CO3':'CO3','MT-ND3':'ND3','MT-ND4L':'ND4L','MT-ND4':'ND4','MT-ND5':'ND5','MT-CYB':'CYB','MT-ND6':'ND6'}\n",
    "    new_col = [dict_mtdna[gene] for gene in df['Gene']]\n",
    "    return(new_col)\n",
    "\n",
    "# Join the TPM and annotations of global ancestry, mt haplogroup, and mitonuclear discordance.\n",
    "def join_tpm_ann(counts):\n",
    "    # Global anc and mt haplogroup annotations.\n",
    "    df_ann = join_global_haplo()\n",
    "    # Add the info to the merged raw counts.\n",
    "    ann_counts = pd.merge( wrangle_tpm(counts), df_ann )\n",
    "    # Remove \"MT-\" prefix.\n",
    "    ann_counts['Gene'] = remove_mt_prefix(ann_counts)\n",
    "    return(ann_counts)\n",
    "\n",
    "\n",
    "#get_haplo()\n",
    "#get_global()\n",
    "#join_global_haplo()\n",
    "#df_tpm_ann = join_tpm_ann()\n",
    "#df_tpm_ann['Gene'] = remove_mt_prefix(df_tpm_ann)\n",
    "#df_wrangled = wrangle_tpm(df_tpm)\n",
    "df_tpm_ann = join_tpm_ann(df_tpm)"
   ]
  },
  {
   "cell_type": "code",
   "execution_count": null,
   "metadata": {},
   "outputs": [],
   "source": [
    "#df_tpm.to_csv(\"gtexportal_v8_tpm_ann.mt.tab\", sep='\\t')"
   ]
  },
  {
   "cell_type": "code",
   "execution_count": null,
   "metadata": {},
   "outputs": [],
   "source": []
  },
  {
   "cell_type": "code",
   "execution_count": null,
   "metadata": {},
   "outputs": [],
   "source": []
  },
  {
   "cell_type": "code",
   "execution_count": null,
   "metadata": {},
   "outputs": [],
   "source": []
  },
  {
   "cell_type": "code",
   "execution_count": null,
   "metadata": {},
   "outputs": [],
   "source": []
  }
 ],
 "metadata": {
  "kernelspec": {
   "display_name": "Python 3 (ipykernel)",
   "language": "python",
   "name": "python3"
  },
  "language_info": {
   "codemirror_mode": {
    "name": "ipython",
    "version": 3
   },
   "file_extension": ".py",
   "mimetype": "text/x-python",
   "name": "python",
   "nbconvert_exporter": "python",
   "pygments_lexer": "ipython3",
   "version": "3.7.10"
  }
 },
 "nbformat": 4,
 "nbformat_minor": 4
}
